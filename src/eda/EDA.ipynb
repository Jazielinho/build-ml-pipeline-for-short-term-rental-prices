{
 "cells": [
  {
   "cell_type": "code",
   "execution_count": 7,
   "id": "132f2562-1398-41dc-8598-4770f7b4f692",
   "metadata": {},
   "outputs": [],
   "source": [
    "import wandb\n",
    "import pandas as pd\n",
    "from ydata_profiling import ProfileReport\n",
    "import ipywidgets"
   ]
  },
  {
   "cell_type": "code",
   "execution_count": 8,
   "id": "405fb8d5-fabe-4ae7-9ca9-9c0dcd8d422a",
   "metadata": {},
   "outputs": [
    {
     "data": {
      "text/html": [
       "Finishing last run (ID:jdrm81c0) before initializing another..."
      ],
      "text/plain": [
       "<IPython.core.display.HTML object>"
      ]
     },
     "metadata": {},
     "output_type": "display_data"
    },
    {
     "name": "stderr",
     "output_type": "stream",
     "text": [
      "wandb: WARNING Source type is set to 'repo' but some required information is missing from the environment. A job will not be created from this run. See https://docs.wandb.ai/guides/launch/create-job\n"
     ]
    },
    {
     "data": {
      "application/vnd.jupyter.widget-view+json": {
       "model_id": "82c8a32fe1444fb4855ca633a02fe8a3",
       "version_major": 2,
       "version_minor": 0
      },
      "text/plain": [
       "VBox(children=(Label(value='19.909 MB of 19.909 MB uploaded\\r'), FloatProgress(value=1.0, max=1.0)))"
      ]
     },
     "metadata": {},
     "output_type": "display_data"
    },
    {
     "data": {
      "text/html": [
       " View run <strong style=\"color:#cdcd00\">wandering-wave-5</strong> at: <a href='https://wandb.ai/jazielinho/nyc_airbnb/runs/jdrm81c0' target=\"_blank\">https://wandb.ai/jazielinho/nyc_airbnb/runs/jdrm81c0</a><br/>Synced 7 W&B file(s), 0 media file(s), 0 artifact file(s) and 1 other file(s)"
      ],
      "text/plain": [
       "<IPython.core.display.HTML object>"
      ]
     },
     "metadata": {},
     "output_type": "display_data"
    },
    {
     "data": {
      "text/html": [
       "Find logs at: <code>./wandb/run-20240821_110841-jdrm81c0/logs</code>"
      ],
      "text/plain": [
       "<IPython.core.display.HTML object>"
      ]
     },
     "metadata": {},
     "output_type": "display_data"
    },
    {
     "data": {
      "text/html": [
       "Successfully finished last run (ID:jdrm81c0). Initializing new run:<br/>"
      ],
      "text/plain": [
       "<IPython.core.display.HTML object>"
      ]
     },
     "metadata": {},
     "output_type": "display_data"
    },
    {
     "data": {
      "application/vnd.jupyter.widget-view+json": {
       "model_id": "0e5818635c6849f7b7f8bec3c6387eb7",
       "version_major": 2,
       "version_minor": 0
      },
      "text/plain": [
       "VBox(children=(Label(value='Waiting for wandb.init()...\\r'), FloatProgress(value=0.011115404266668823, max=1.0…"
      ]
     },
     "metadata": {},
     "output_type": "display_data"
    },
    {
     "data": {
      "text/html": [
       "wandb version 0.17.7 is available!  To upgrade, please run:\n",
       " $ pip install wandb --upgrade"
      ],
      "text/plain": [
       "<IPython.core.display.HTML object>"
      ]
     },
     "metadata": {},
     "output_type": "display_data"
    },
    {
     "data": {
      "text/html": [
       "Tracking run with wandb version 0.16.0"
      ],
      "text/plain": [
       "<IPython.core.display.HTML object>"
      ]
     },
     "metadata": {},
     "output_type": "display_data"
    },
    {
     "data": {
      "text/html": [
       "Run data is saved locally in <code>/mnt/c/Users/jahaz/OneDrive/Escritorio/Test/mlops_specialization/build-ml-pipeline-for-short-term-rental-prices/src/eda/wandb/run-20240821_111028-z2mvqkvj</code>"
      ],
      "text/plain": [
       "<IPython.core.display.HTML object>"
      ]
     },
     "metadata": {},
     "output_type": "display_data"
    },
    {
     "data": {
      "text/html": [
       "Syncing run <strong><a href='https://wandb.ai/jazielinho/nyc_airbnb/runs/z2mvqkvj' target=\"_blank\">swift-darkness-6</a></strong> to <a href='https://wandb.ai/jazielinho/nyc_airbnb' target=\"_blank\">Weights & Biases</a> (<a href='https://wandb.me/run' target=\"_blank\">docs</a>)<br/>"
      ],
      "text/plain": [
       "<IPython.core.display.HTML object>"
      ]
     },
     "metadata": {},
     "output_type": "display_data"
    },
    {
     "data": {
      "text/html": [
       " View project at <a href='https://wandb.ai/jazielinho/nyc_airbnb' target=\"_blank\">https://wandb.ai/jazielinho/nyc_airbnb</a>"
      ],
      "text/plain": [
       "<IPython.core.display.HTML object>"
      ]
     },
     "metadata": {},
     "output_type": "display_data"
    },
    {
     "data": {
      "text/html": [
       " View run at <a href='https://wandb.ai/jazielinho/nyc_airbnb/runs/z2mvqkvj' target=\"_blank\">https://wandb.ai/jazielinho/nyc_airbnb/runs/z2mvqkvj</a>"
      ],
      "text/plain": [
       "<IPython.core.display.HTML object>"
      ]
     },
     "metadata": {},
     "output_type": "display_data"
    }
   ],
   "source": [
    "run = wandb.init(\n",
    "    project=\"nyc_airbnb\",\n",
    "    group=\"eda\",\n",
    "    save_code=True\n",
    ")"
   ]
  },
  {
   "cell_type": "code",
   "execution_count": 9,
   "id": "52389190-328c-4d6c-a485-b6f80cf85717",
   "metadata": {},
   "outputs": [],
   "source": [
    "local_path = wandb.use_artifact(\"sample.csv:latest\").file()"
   ]
  },
  {
   "cell_type": "code",
   "execution_count": 10,
   "id": "ffc0f778-bbdb-4417-aa5d-31e07a761a50",
   "metadata": {},
   "outputs": [],
   "source": [
    "df = pd.read_csv(local_path)"
   ]
  },
  {
   "cell_type": "code",
   "execution_count": 11,
   "id": "0e66c58d-f529-4cd6-8bb1-5d9de32a99bd",
   "metadata": {},
   "outputs": [],
   "source": [
    "profile = ProfileReport(df)"
   ]
  },
  {
   "cell_type": "code",
   "execution_count": 12,
   "id": "e7af0edd-7115-4965-b5ec-fc1291cb6c2d",
   "metadata": {},
   "outputs": [
    {
     "data": {
      "application/vnd.jupyter.widget-view+json": {
       "model_id": "61bf4517876a41bc830077eda7471ef2",
       "version_major": 2,
       "version_minor": 0
      },
      "text/plain": [
       "Summarize dataset:   0%|          | 0/5 [00:00<?, ?it/s]"
      ]
     },
     "metadata": {},
     "output_type": "display_data"
    },
    {
     "name": "stderr",
     "output_type": "stream",
     "text": [
      "/root/miniconda3/envs/mlflow-9412ace4d0f37662a261b2398def1d4c8d320938/lib/python3.10/site-packages/ydata_profiling/model/typeset.py:208: FutureWarning: is_categorical_dtype is deprecated and will be removed in a future version. Use isinstance(dtype, CategoricalDtype) instead\n",
      "  is_valid_dtype = pdt.is_categorical_dtype(series) and not pdt.is_bool_dtype(\n",
      "/root/miniconda3/envs/mlflow-9412ace4d0f37662a261b2398def1d4c8d320938/lib/python3.10/site-packages/ydata_profiling/model/typeset.py:125: FutureWarning: is_categorical_dtype is deprecated and will be removed in a future version. Use isinstance(dtype, CategoricalDtype) instead\n",
      "  not pdt.is_categorical_dtype(series)\n",
      "/root/miniconda3/envs/mlflow-9412ace4d0f37662a261b2398def1d4c8d320938/lib/python3.10/site-packages/ydata_profiling/model/typeset.py:208: FutureWarning: is_categorical_dtype is deprecated and will be removed in a future version. Use isinstance(dtype, CategoricalDtype) instead\n",
      "  is_valid_dtype = pdt.is_categorical_dtype(series) and not pdt.is_bool_dtype(\n",
      "/root/miniconda3/envs/mlflow-9412ace4d0f37662a261b2398def1d4c8d320938/lib/python3.10/site-packages/ydata_profiling/model/typeset.py:125: FutureWarning: is_categorical_dtype is deprecated and will be removed in a future version. Use isinstance(dtype, CategoricalDtype) instead\n",
      "  not pdt.is_categorical_dtype(series)\n",
      "/root/miniconda3/envs/mlflow-9412ace4d0f37662a261b2398def1d4c8d320938/lib/python3.10/site-packages/ydata_profiling/model/typeset.py:208: FutureWarning: is_categorical_dtype is deprecated and will be removed in a future version. Use isinstance(dtype, CategoricalDtype) instead\n",
      "  is_valid_dtype = pdt.is_categorical_dtype(series) and not pdt.is_bool_dtype(\n",
      "/root/miniconda3/envs/mlflow-9412ace4d0f37662a261b2398def1d4c8d320938/lib/python3.10/site-packages/ydata_profiling/model/typeset_relations.py:34: FutureWarning: is_categorical_dtype is deprecated and will be removed in a future version. Use isinstance(dtype, CategoricalDtype) instead\n",
      "  if pdt.is_categorical_dtype(series):\n",
      "/root/miniconda3/envs/mlflow-9412ace4d0f37662a261b2398def1d4c8d320938/lib/python3.10/site-packages/ydata_profiling/model/typeset.py:125: FutureWarning: is_categorical_dtype is deprecated and will be removed in a future version. Use isinstance(dtype, CategoricalDtype) instead\n",
      "  not pdt.is_categorical_dtype(series)\n",
      "/root/miniconda3/envs/mlflow-9412ace4d0f37662a261b2398def1d4c8d320938/lib/python3.10/site-packages/ydata_profiling/model/typeset.py:208: FutureWarning: is_categorical_dtype is deprecated and will be removed in a future version. Use isinstance(dtype, CategoricalDtype) instead\n",
      "  is_valid_dtype = pdt.is_categorical_dtype(series) and not pdt.is_bool_dtype(\n",
      "/root/miniconda3/envs/mlflow-9412ace4d0f37662a261b2398def1d4c8d320938/lib/python3.10/site-packages/ydata_profiling/model/typeset.py:125: FutureWarning: is_categorical_dtype is deprecated and will be removed in a future version. Use isinstance(dtype, CategoricalDtype) instead\n",
      "  not pdt.is_categorical_dtype(series)\n",
      "/root/miniconda3/envs/mlflow-9412ace4d0f37662a261b2398def1d4c8d320938/lib/python3.10/site-packages/ydata_profiling/model/typeset.py:208: FutureWarning: is_categorical_dtype is deprecated and will be removed in a future version. Use isinstance(dtype, CategoricalDtype) instead\n",
      "  is_valid_dtype = pdt.is_categorical_dtype(series) and not pdt.is_bool_dtype(\n",
      "/root/miniconda3/envs/mlflow-9412ace4d0f37662a261b2398def1d4c8d320938/lib/python3.10/site-packages/ydata_profiling/model/typeset.py:125: FutureWarning: is_categorical_dtype is deprecated and will be removed in a future version. Use isinstance(dtype, CategoricalDtype) instead\n",
      "  not pdt.is_categorical_dtype(series)\n",
      "/root/miniconda3/envs/mlflow-9412ace4d0f37662a261b2398def1d4c8d320938/lib/python3.10/site-packages/ydata_profiling/model/typeset.py:125: FutureWarning: is_categorical_dtype is deprecated and will be removed in a future version. Use isinstance(dtype, CategoricalDtype) instead\n",
      "  not pdt.is_categorical_dtype(series)\n",
      "/root/miniconda3/envs/mlflow-9412ace4d0f37662a261b2398def1d4c8d320938/lib/python3.10/site-packages/ydata_profiling/model/typeset.py:208: FutureWarning: is_categorical_dtype is deprecated and will be removed in a future version. Use isinstance(dtype, CategoricalDtype) instead\n",
      "  is_valid_dtype = pdt.is_categorical_dtype(series) and not pdt.is_bool_dtype(\n",
      "/root/miniconda3/envs/mlflow-9412ace4d0f37662a261b2398def1d4c8d320938/lib/python3.10/site-packages/ydata_profiling/model/typeset_relations.py:34: FutureWarning: is_categorical_dtype is deprecated and will be removed in a future version. Use isinstance(dtype, CategoricalDtype) instead\n",
      "  if pdt.is_categorical_dtype(series):\n",
      "/root/miniconda3/envs/mlflow-9412ace4d0f37662a261b2398def1d4c8d320938/lib/python3.10/site-packages/ydata_profiling/model/typeset.py:208: FutureWarning: is_categorical_dtype is deprecated and will be removed in a future version. Use isinstance(dtype, CategoricalDtype) instead\n",
      "  is_valid_dtype = pdt.is_categorical_dtype(series) and not pdt.is_bool_dtype(\n",
      "/root/miniconda3/envs/mlflow-9412ace4d0f37662a261b2398def1d4c8d320938/lib/python3.10/site-packages/ydata_profiling/model/typeset.py:125: FutureWarning: is_categorical_dtype is deprecated and will be removed in a future version. Use isinstance(dtype, CategoricalDtype) instead\n",
      "  not pdt.is_categorical_dtype(series)\n",
      "/root/miniconda3/envs/mlflow-9412ace4d0f37662a261b2398def1d4c8d320938/lib/python3.10/site-packages/ydata_profiling/model/typeset.py:208: FutureWarning: is_categorical_dtype is deprecated and will be removed in a future version. Use isinstance(dtype, CategoricalDtype) instead\n",
      "  is_valid_dtype = pdt.is_categorical_dtype(series) and not pdt.is_bool_dtype(\n",
      "/root/miniconda3/envs/mlflow-9412ace4d0f37662a261b2398def1d4c8d320938/lib/python3.10/site-packages/ydata_profiling/model/typeset.py:125: FutureWarning: is_categorical_dtype is deprecated and will be removed in a future version. Use isinstance(dtype, CategoricalDtype) instead\n",
      "  not pdt.is_categorical_dtype(series)\n",
      "/root/miniconda3/envs/mlflow-9412ace4d0f37662a261b2398def1d4c8d320938/lib/python3.10/site-packages/ydata_profiling/model/typeset.py:125: FutureWarning: is_categorical_dtype is deprecated and will be removed in a future version. Use isinstance(dtype, CategoricalDtype) instead\n",
      "  not pdt.is_categorical_dtype(series)\n",
      "/root/miniconda3/envs/mlflow-9412ace4d0f37662a261b2398def1d4c8d320938/lib/python3.10/site-packages/ydata_profiling/model/typeset.py:208: FutureWarning: is_categorical_dtype is deprecated and will be removed in a future version. Use isinstance(dtype, CategoricalDtype) instead\n",
      "  is_valid_dtype = pdt.is_categorical_dtype(series) and not pdt.is_bool_dtype(\n",
      "/root/miniconda3/envs/mlflow-9412ace4d0f37662a261b2398def1d4c8d320938/lib/python3.10/site-packages/ydata_profiling/model/typeset_relations.py:34: FutureWarning: is_categorical_dtype is deprecated and will be removed in a future version. Use isinstance(dtype, CategoricalDtype) instead\n",
      "  if pdt.is_categorical_dtype(series):\n",
      "/root/miniconda3/envs/mlflow-9412ace4d0f37662a261b2398def1d4c8d320938/lib/python3.10/site-packages/ydata_profiling/model/typeset.py:125: FutureWarning: is_categorical_dtype is deprecated and will be removed in a future version. Use isinstance(dtype, CategoricalDtype) instead\n",
      "  not pdt.is_categorical_dtype(series)\n",
      "/root/miniconda3/envs/mlflow-9412ace4d0f37662a261b2398def1d4c8d320938/lib/python3.10/site-packages/ydata_profiling/model/typeset_relations.py:34: FutureWarning: is_categorical_dtype is deprecated and will be removed in a future version. Use isinstance(dtype, CategoricalDtype) instead\n",
      "  if pdt.is_categorical_dtype(series):\n",
      "/root/miniconda3/envs/mlflow-9412ace4d0f37662a261b2398def1d4c8d320938/lib/python3.10/site-packages/ydata_profiling/model/typeset.py:125: FutureWarning: is_categorical_dtype is deprecated and will be removed in a future version. Use isinstance(dtype, CategoricalDtype) instead\n",
      "  not pdt.is_categorical_dtype(series)\n",
      "/root/miniconda3/envs/mlflow-9412ace4d0f37662a261b2398def1d4c8d320938/lib/python3.10/site-packages/ydata_profiling/model/typeset_relations.py:34: FutureWarning: is_categorical_dtype is deprecated and will be removed in a future version. Use isinstance(dtype, CategoricalDtype) instead\n",
      "  if pdt.is_categorical_dtype(series):\n",
      "/root/miniconda3/envs/mlflow-9412ace4d0f37662a261b2398def1d4c8d320938/lib/python3.10/site-packages/ydata_profiling/model/typeset.py:208: FutureWarning: is_categorical_dtype is deprecated and will be removed in a future version. Use isinstance(dtype, CategoricalDtype) instead\n",
      "  is_valid_dtype = pdt.is_categorical_dtype(series) and not pdt.is_bool_dtype(\n",
      "/root/miniconda3/envs/mlflow-9412ace4d0f37662a261b2398def1d4c8d320938/lib/python3.10/site-packages/ydata_profiling/model/typeset.py:208: FutureWarning: is_categorical_dtype is deprecated and will be removed in a future version. Use isinstance(dtype, CategoricalDtype) instead\n",
      "  is_valid_dtype = pdt.is_categorical_dtype(series) and not pdt.is_bool_dtype(\n",
      "/root/miniconda3/envs/mlflow-9412ace4d0f37662a261b2398def1d4c8d320938/lib/python3.10/site-packages/ydata_profiling/model/typeset_relations.py:34: FutureWarning: is_categorical_dtype is deprecated and will be removed in a future version. Use isinstance(dtype, CategoricalDtype) instead\n",
      "  if pdt.is_categorical_dtype(series):\n",
      "/root/miniconda3/envs/mlflow-9412ace4d0f37662a261b2398def1d4c8d320938/lib/python3.10/site-packages/ydata_profiling/model/typeset.py:125: FutureWarning: is_categorical_dtype is deprecated and will be removed in a future version. Use isinstance(dtype, CategoricalDtype) instead\n",
      "  not pdt.is_categorical_dtype(series)\n",
      "/root/miniconda3/envs/mlflow-9412ace4d0f37662a261b2398def1d4c8d320938/lib/python3.10/site-packages/ydata_profiling/model/typeset.py:208: FutureWarning: is_categorical_dtype is deprecated and will be removed in a future version. Use isinstance(dtype, CategoricalDtype) instead\n",
      "  is_valid_dtype = pdt.is_categorical_dtype(series) and not pdt.is_bool_dtype(\n",
      "/root/miniconda3/envs/mlflow-9412ace4d0f37662a261b2398def1d4c8d320938/lib/python3.10/site-packages/ydata_profiling/model/typeset.py:208: FutureWarning: is_categorical_dtype is deprecated and will be removed in a future version. Use isinstance(dtype, CategoricalDtype) instead\n",
      "  is_valid_dtype = pdt.is_categorical_dtype(series) and not pdt.is_bool_dtype(\n",
      "/root/miniconda3/envs/mlflow-9412ace4d0f37662a261b2398def1d4c8d320938/lib/python3.10/site-packages/ydata_profiling/model/typeset.py:208: FutureWarning: is_categorical_dtype is deprecated and will be removed in a future version. Use isinstance(dtype, CategoricalDtype) instead\n",
      "  is_valid_dtype = pdt.is_categorical_dtype(series) and not pdt.is_bool_dtype(\n",
      "/root/miniconda3/envs/mlflow-9412ace4d0f37662a261b2398def1d4c8d320938/lib/python3.10/site-packages/ydata_profiling/model/typeset.py:125: FutureWarning: is_categorical_dtype is deprecated and will be removed in a future version. Use isinstance(dtype, CategoricalDtype) instead\n",
      "  not pdt.is_categorical_dtype(series)\n",
      "/root/miniconda3/envs/mlflow-9412ace4d0f37662a261b2398def1d4c8d320938/lib/python3.10/site-packages/ydata_profiling/model/typeset.py:125: FutureWarning: is_categorical_dtype is deprecated and will be removed in a future version. Use isinstance(dtype, CategoricalDtype) instead\n",
      "  not pdt.is_categorical_dtype(series)\n",
      "/root/miniconda3/envs/mlflow-9412ace4d0f37662a261b2398def1d4c8d320938/lib/python3.10/site-packages/ydata_profiling/model/typeset.py:125: FutureWarning: is_categorical_dtype is deprecated and will be removed in a future version. Use isinstance(dtype, CategoricalDtype) instead\n",
      "  not pdt.is_categorical_dtype(series)\n",
      "/root/miniconda3/envs/mlflow-9412ace4d0f37662a261b2398def1d4c8d320938/lib/python3.10/site-packages/ydata_profiling/model/typeset_relations.py:34: FutureWarning: is_categorical_dtype is deprecated and will be removed in a future version. Use isinstance(dtype, CategoricalDtype) instead\n",
      "  if pdt.is_categorical_dtype(series):\n",
      "/root/miniconda3/envs/mlflow-9412ace4d0f37662a261b2398def1d4c8d320938/lib/python3.10/site-packages/ydata_profiling/model/typeset_relations.py:34: FutureWarning: is_categorical_dtype is deprecated and will be removed in a future version. Use isinstance(dtype, CategoricalDtype) instead\n",
      "  if pdt.is_categorical_dtype(series):\n",
      "/root/miniconda3/envs/mlflow-9412ace4d0f37662a261b2398def1d4c8d320938/lib/python3.10/site-packages/ydata_profiling/model/typeset_relations.py:34: FutureWarning: is_categorical_dtype is deprecated and will be removed in a future version. Use isinstance(dtype, CategoricalDtype) instead\n",
      "  if pdt.is_categorical_dtype(series):\n",
      "/root/miniconda3/envs/mlflow-9412ace4d0f37662a261b2398def1d4c8d320938/lib/python3.10/site-packages/ydata_profiling/model/correlations.py:66: UserWarning: There was an attempt to calculate the auto correlation, but this failed.\n",
      "To hide this warning, disable the calculation\n",
      "(using `df.profile_report(correlations={\"auto\": {\"calculate\": False}})`\n",
      "If this is problematic for your use case, please report this as an issue:\n",
      "https://github.com/ydataai/ydata-profiling/issues\n",
      "(include the error message: 'Function <code object pandas_auto_compute at 0x7f58d079fb50, file \"/root/miniconda3/envs/mlflow-9412ace4d0f37662a261b2398def1d4c8d320938/lib/python3.10/site-packages/ydata_profiling/model/pandas/correlations_pandas.py\", line 167>')\n",
      "  warnings.warn(\n"
     ]
    },
    {
     "data": {
      "application/vnd.jupyter.widget-view+json": {
       "model_id": "751205c3617445ca9b6a5da8022b280e",
       "version_major": 2,
       "version_minor": 0
      },
      "text/plain": [
       "Generate report structure:   0%|          | 0/1 [00:00<?, ?it/s]"
      ]
     },
     "metadata": {},
     "output_type": "display_data"
    },
    {
     "data": {
      "application/vnd.jupyter.widget-view+json": {
       "model_id": "1c1b5326b9f3423e9819847629f1c244",
       "version_major": 2,
       "version_minor": 0
      },
      "text/plain": [
       "Render widgets:   0%|          | 0/1 [00:00<?, ?it/s]"
      ]
     },
     "metadata": {},
     "output_type": "display_data"
    },
    {
     "name": "stderr",
     "output_type": "stream",
     "text": [
      "IOPub message rate exceeded.\n",
      "The Jupyter server will temporarily stop sending output\n",
      "to the client in order to avoid crashing it.\n",
      "To change this limit, set the config variable\n",
      "`--ServerApp.iopub_msg_rate_limit`.\n",
      "\n",
      "Current values:\n",
      "ServerApp.iopub_msg_rate_limit=1000.0 (msgs/sec)\n",
      "ServerApp.rate_limit_window=3.0 (secs)\n",
      "\n",
      "IOPub message rate exceeded.\n",
      "The Jupyter server will temporarily stop sending output\n",
      "to the client in order to avoid crashing it.\n",
      "To change this limit, set the config variable\n",
      "`--ServerApp.iopub_msg_rate_limit`.\n",
      "\n",
      "Current values:\n",
      "ServerApp.iopub_msg_rate_limit=1000.0 (msgs/sec)\n",
      "ServerApp.rate_limit_window=3.0 (secs)\n",
      "\n"
     ]
    },
    {
     "data": {
      "text/html": [
       "<div>\n",
       "<style scoped>\n",
       "    .dataframe tbody tr th:only-of-type {\n",
       "        vertical-align: middle;\n",
       "    }\n",
       "\n",
       "    .dataframe tbody tr th {\n",
       "        vertical-align: top;\n",
       "    }\n",
       "\n",
       "    .dataframe thead th {\n",
       "        text-align: right;\n",
       "    }\n",
       "</style>\n",
       "<table border=\"1\" class=\"dataframe\">\n",
       "  <thead>\n",
       "    <tr style=\"text-align: right;\">\n",
       "      <th></th>\n",
       "      <th>id</th>\n",
       "      <th>name</th>\n",
       "      <th>host_id</th>\n",
       "      <th>host_name</th>\n",
       "      <th>neighbourhood_group</th>\n",
       "      <th>neighbourhood</th>\n",
       "      <th>latitude</th>\n",
       "      <th>longitude</th>\n",
       "      <th>room_type</th>\n",
       "      <th>price</th>\n",
       "      <th>minimum_nights</th>\n",
       "      <th>number_of_reviews</th>\n",
       "      <th>last_review</th>\n",
       "      <th>reviews_per_month</th>\n",
       "      <th>calculated_host_listings_count</th>\n",
       "      <th>availability_365</th>\n",
       "    </tr>\n",
       "  </thead>\n",
       "  <tbody>\n",
       "    <tr>\n",
       "      <th>19990</th>\n",
       "      <td>5192459</td>\n",
       "      <td>Quiet Room in 4BR UWS Brownstone</td>\n",
       "      <td>10677483</td>\n",
       "      <td>Greg</td>\n",
       "      <td>Manhattan</td>\n",
       "      <td>Upper West Side</td>\n",
       "      <td>40.80173</td>\n",
       "      <td>-73.96625</td>\n",
       "      <td>Private room</td>\n",
       "      <td>70</td>\n",
       "      <td>1</td>\n",
       "      <td>0</td>\n",
       "      <td>NaN</td>\n",
       "      <td>NaN</td>\n",
       "      <td>1</td>\n",
       "      <td>0</td>\n",
       "    </tr>\n",
       "    <tr>\n",
       "      <th>19991</th>\n",
       "      <td>1327940</td>\n",
       "      <td>Huge Gorgeous Park View Apartment!</td>\n",
       "      <td>3290436</td>\n",
       "      <td>Hadar</td>\n",
       "      <td>Brooklyn</td>\n",
       "      <td>Flatbush</td>\n",
       "      <td>40.65335</td>\n",
       "      <td>-73.96257</td>\n",
       "      <td>Entire home/apt</td>\n",
       "      <td>120</td>\n",
       "      <td>3</td>\n",
       "      <td>13</td>\n",
       "      <td>2016-08-27</td>\n",
       "      <td>0.28</td>\n",
       "      <td>2</td>\n",
       "      <td>327</td>\n",
       "    </tr>\n",
       "    <tr>\n",
       "      <th>19992</th>\n",
       "      <td>23612681</td>\n",
       "      <td>Shared Room 1 Stop from Manhattan on the F Train</td>\n",
       "      <td>55724558</td>\n",
       "      <td>Taylor</td>\n",
       "      <td>Queens</td>\n",
       "      <td>Long Island City</td>\n",
       "      <td>40.76006</td>\n",
       "      <td>-73.94080</td>\n",
       "      <td>Private room</td>\n",
       "      <td>55</td>\n",
       "      <td>4</td>\n",
       "      <td>2</td>\n",
       "      <td>2019-06-01</td>\n",
       "      <td>0.65</td>\n",
       "      <td>5</td>\n",
       "      <td>89</td>\n",
       "    </tr>\n",
       "    <tr>\n",
       "      <th>19993</th>\n",
       "      <td>34485745</td>\n",
       "      <td>Midtown Manhattan Stunner - Private room</td>\n",
       "      <td>261632622</td>\n",
       "      <td>Royalton</td>\n",
       "      <td>Manhattan</td>\n",
       "      <td>Theater District</td>\n",
       "      <td>40.75491</td>\n",
       "      <td>-73.98507</td>\n",
       "      <td>Private room</td>\n",
       "      <td>100</td>\n",
       "      <td>1</td>\n",
       "      <td>3</td>\n",
       "      <td>2019-06-16</td>\n",
       "      <td>3.00</td>\n",
       "      <td>9</td>\n",
       "      <td>318</td>\n",
       "    </tr>\n",
       "    <tr>\n",
       "      <th>19994</th>\n",
       "      <td>25616250</td>\n",
       "      <td>Stylish, spacious, private 1BR apt in Ditmas Park</td>\n",
       "      <td>125396920</td>\n",
       "      <td>Adam</td>\n",
       "      <td>Brooklyn</td>\n",
       "      <td>Flatbush</td>\n",
       "      <td>40.64314</td>\n",
       "      <td>-73.95705</td>\n",
       "      <td>Entire home/apt</td>\n",
       "      <td>75</td>\n",
       "      <td>3</td>\n",
       "      <td>10</td>\n",
       "      <td>2019-01-03</td>\n",
       "      <td>0.84</td>\n",
       "      <td>1</td>\n",
       "      <td>0</td>\n",
       "    </tr>\n",
       "    <tr>\n",
       "      <th>19995</th>\n",
       "      <td>7094539</td>\n",
       "      <td>Tranquil haven in bubbly Brooklyn</td>\n",
       "      <td>2052211</td>\n",
       "      <td>Adriana</td>\n",
       "      <td>Brooklyn</td>\n",
       "      <td>Windsor Terrace</td>\n",
       "      <td>40.65360</td>\n",
       "      <td>-73.97546</td>\n",
       "      <td>Entire home/apt</td>\n",
       "      <td>143</td>\n",
       "      <td>14</td>\n",
       "      <td>2</td>\n",
       "      <td>2016-08-27</td>\n",
       "      <td>0.04</td>\n",
       "      <td>1</td>\n",
       "      <td>10</td>\n",
       "    </tr>\n",
       "    <tr>\n",
       "      <th>19996</th>\n",
       "      <td>4424261</td>\n",
       "      <td>Large 1 BR with backyard on UWS</td>\n",
       "      <td>3447311</td>\n",
       "      <td>Sarah</td>\n",
       "      <td>Manhattan</td>\n",
       "      <td>Upper West Side</td>\n",
       "      <td>40.80188</td>\n",
       "      <td>-73.96808</td>\n",
       "      <td>Entire home/apt</td>\n",
       "      <td>200</td>\n",
       "      <td>2</td>\n",
       "      <td>22</td>\n",
       "      <td>2019-05-21</td>\n",
       "      <td>0.50</td>\n",
       "      <td>1</td>\n",
       "      <td>0</td>\n",
       "    </tr>\n",
       "    <tr>\n",
       "      <th>19997</th>\n",
       "      <td>4545882</td>\n",
       "      <td>Amazing studio/Loft with a backyard</td>\n",
       "      <td>23569951</td>\n",
       "      <td>Kaveh</td>\n",
       "      <td>Manhattan</td>\n",
       "      <td>Upper East Side</td>\n",
       "      <td>40.78110</td>\n",
       "      <td>-73.94567</td>\n",
       "      <td>Entire home/apt</td>\n",
       "      <td>220</td>\n",
       "      <td>3</td>\n",
       "      <td>28</td>\n",
       "      <td>2019-05-23</td>\n",
       "      <td>0.50</td>\n",
       "      <td>1</td>\n",
       "      <td>293</td>\n",
       "    </tr>\n",
       "    <tr>\n",
       "      <th>19998</th>\n",
       "      <td>26518547</td>\n",
       "      <td>U2 comfortable double bed sleeps 2 guests</td>\n",
       "      <td>295128</td>\n",
       "      <td>Carol Gloria</td>\n",
       "      <td>Bronx</td>\n",
       "      <td>Clason Point</td>\n",
       "      <td>40.81225</td>\n",
       "      <td>-73.85502</td>\n",
       "      <td>Private room</td>\n",
       "      <td>80</td>\n",
       "      <td>1</td>\n",
       "      <td>4</td>\n",
       "      <td>2019-07-01</td>\n",
       "      <td>1.48</td>\n",
       "      <td>7</td>\n",
       "      <td>365</td>\n",
       "    </tr>\n",
       "    <tr>\n",
       "      <th>19999</th>\n",
       "      <td>33631782</td>\n",
       "      <td>Private Bedroom in Williamsburg Apt!</td>\n",
       "      <td>8569221</td>\n",
       "      <td>Andi</td>\n",
       "      <td>Brooklyn</td>\n",
       "      <td>Williamsburg</td>\n",
       "      <td>40.71829</td>\n",
       "      <td>-73.95819</td>\n",
       "      <td>Private room</td>\n",
       "      <td>109</td>\n",
       "      <td>3</td>\n",
       "      <td>3</td>\n",
       "      <td>2019-04-28</td>\n",
       "      <td>1.07</td>\n",
       "      <td>2</td>\n",
       "      <td>97</td>\n",
       "    </tr>\n",
       "  </tbody>\n",
       "</table>\n",
       "</div>"
      ],
      "text/plain": [
       "             id                                               name    host_id  \\\n",
       "19990   5192459                   Quiet Room in 4BR UWS Brownstone   10677483   \n",
       "19991   1327940                 Huge Gorgeous Park View Apartment!    3290436   \n",
       "19992  23612681   Shared Room 1 Stop from Manhattan on the F Train   55724558   \n",
       "19993  34485745           Midtown Manhattan Stunner - Private room  261632622   \n",
       "19994  25616250  Stylish, spacious, private 1BR apt in Ditmas Park  125396920   \n",
       "19995   7094539                  Tranquil haven in bubbly Brooklyn    2052211   \n",
       "19996   4424261                    Large 1 BR with backyard on UWS    3447311   \n",
       "19997   4545882                Amazing studio/Loft with a backyard   23569951   \n",
       "19998  26518547          U2 comfortable double bed sleeps 2 guests     295128   \n",
       "19999  33631782               Private Bedroom in Williamsburg Apt!    8569221   \n",
       "\n",
       "          host_name neighbourhood_group     neighbourhood  latitude  \\\n",
       "19990          Greg           Manhattan   Upper West Side  40.80173   \n",
       "19991         Hadar            Brooklyn          Flatbush  40.65335   \n",
       "19992        Taylor              Queens  Long Island City  40.76006   \n",
       "19993      Royalton           Manhattan  Theater District  40.75491   \n",
       "19994          Adam            Brooklyn          Flatbush  40.64314   \n",
       "19995       Adriana            Brooklyn   Windsor Terrace  40.65360   \n",
       "19996         Sarah           Manhattan   Upper West Side  40.80188   \n",
       "19997         Kaveh           Manhattan   Upper East Side  40.78110   \n",
       "19998  Carol Gloria               Bronx      Clason Point  40.81225   \n",
       "19999          Andi            Brooklyn      Williamsburg  40.71829   \n",
       "\n",
       "       longitude        room_type  price  minimum_nights  number_of_reviews  \\\n",
       "19990  -73.96625     Private room     70               1                  0   \n",
       "19991  -73.96257  Entire home/apt    120               3                 13   \n",
       "19992  -73.94080     Private room     55               4                  2   \n",
       "19993  -73.98507     Private room    100               1                  3   \n",
       "19994  -73.95705  Entire home/apt     75               3                 10   \n",
       "19995  -73.97546  Entire home/apt    143              14                  2   \n",
       "19996  -73.96808  Entire home/apt    200               2                 22   \n",
       "19997  -73.94567  Entire home/apt    220               3                 28   \n",
       "19998  -73.85502     Private room     80               1                  4   \n",
       "19999  -73.95819     Private room    109               3                  3   \n",
       "\n",
       "      last_review  reviews_per_month  calculated_host_listings_count  \\\n",
       "19990         NaN                NaN                               1   \n",
       "19991  2016-08-27               0.28                               2   \n",
       "19992  2019-06-01               0.65                               5   \n",
       "19993  2019-06-16               3.00                               9   \n",
       "19994  2019-01-03               0.84                               1   \n",
       "19995  2016-08-27               0.04                               1   \n",
       "19996  2019-05-21               0.50                               1   \n",
       "19997  2019-05-23               0.50                               1   \n",
       "19998  2019-07-01               1.48                               7   \n",
       "19999  2019-04-28               1.07                               2   \n",
       "\n",
       "       availability_365  \n",
       "19990                 0  \n",
       "19991               327  \n",
       "19992                89  \n",
       "19993               318  \n",
       "19994                 0  \n",
       "19995                10  \n",
       "19996                 0  \n",
       "19997               293  \n",
       "19998               365  \n",
       "19999                97  "
      ]
     },
     "metadata": {},
     "output_type": "display_data"
    },
    {
     "data": {
      "application/vnd.jupyter.widget-view+json": {
       "model_id": "6cdd4c45887e48d387f38d549de25838",
       "version_major": 2,
       "version_minor": 0
      },
      "text/plain": [
       "VBox(children=(Tab(children=(Tab(children=(GridBox(children=(VBox(children=(GridspecLayout(children=(HTML(valu…"
      ]
     },
     "metadata": {},
     "output_type": "display_data"
    }
   ],
   "source": [
    "profile.to_widgets()"
   ]
  },
  {
   "cell_type": "code",
   "execution_count": 13,
   "id": "9558319d-941b-44a9-93ea-6c780085f294",
   "metadata": {},
   "outputs": [],
   "source": [
    "min_price = 30\n",
    "max_price = 350"
   ]
  },
  {
   "cell_type": "code",
   "execution_count": 14,
   "id": "3cb4d8ec-2997-4d77-b930-ca10871dc3d0",
   "metadata": {},
   "outputs": [],
   "source": [
    "idx = df['price'].between(min_price, max_price)"
   ]
  },
  {
   "cell_type": "code",
   "execution_count": 15,
   "id": "2184b9fc-9f7e-482e-95a6-9ba21a8f4e9f",
   "metadata": {},
   "outputs": [],
   "source": [
    "df = df[idx].copy()"
   ]
  },
  {
   "cell_type": "code",
   "execution_count": 16,
   "id": "ffdcec01-76de-487a-92f0-06035d2dcd68",
   "metadata": {},
   "outputs": [],
   "source": [
    "df['last_review'] = pd.to_datetime(df['last_review'])"
   ]
  },
  {
   "cell_type": "code",
   "execution_count": 17,
   "id": "a33bb218-02dc-4f33-9bcb-28ff5a22872b",
   "metadata": {},
   "outputs": [
    {
     "name": "stdout",
     "output_type": "stream",
     "text": [
      "<class 'pandas.core.frame.DataFrame'>\n",
      "Index: 18854 entries, 0 to 19999\n",
      "Data columns (total 16 columns):\n",
      " #   Column                          Non-Null Count  Dtype         \n",
      "---  ------                          --------------  -----         \n",
      " 0   id                              18854 non-null  int64         \n",
      " 1   name                            18847 non-null  object        \n",
      " 2   host_id                         18854 non-null  int64         \n",
      " 3   host_name                       18847 non-null  object        \n",
      " 4   neighbourhood_group             18854 non-null  object        \n",
      " 5   neighbourhood                   18854 non-null  object        \n",
      " 6   latitude                        18854 non-null  float64       \n",
      " 7   longitude                       18854 non-null  float64       \n",
      " 8   room_type                       18854 non-null  object        \n",
      " 9   price                           18854 non-null  int64         \n",
      " 10  minimum_nights                  18854 non-null  int64         \n",
      " 11  number_of_reviews               18854 non-null  int64         \n",
      " 12  last_review                     15129 non-null  datetime64[ns]\n",
      " 13  reviews_per_month               15129 non-null  float64       \n",
      " 14  calculated_host_listings_count  18854 non-null  int64         \n",
      " 15  availability_365                18854 non-null  int64         \n",
      "dtypes: datetime64[ns](1), float64(3), int64(7), object(5)\n",
      "memory usage: 2.4+ MB\n"
     ]
    }
   ],
   "source": [
    "df.info()"
   ]
  },
  {
   "cell_type": "code",
   "execution_count": 18,
   "id": "e80a7ff6-7dd8-4a05-b40d-7ba5028f1337",
   "metadata": {},
   "outputs": [
    {
     "name": "stderr",
     "output_type": "stream",
     "text": [
      "wandb: WARNING Source type is set to 'repo' but some required information is missing from the environment. A job will not be created from this run. See https://docs.wandb.ai/guides/launch/create-job\n"
     ]
    },
    {
     "data": {
      "application/vnd.jupyter.widget-view+json": {
       "model_id": "30dcbf0480ae4b7d90acdc490e626c91",
       "version_major": 2,
       "version_minor": 0
      },
      "text/plain": [
       "VBox(children=(Label(value='19.855 MB of 19.855 MB uploaded\\r'), FloatProgress(value=1.0, max=1.0)))"
      ]
     },
     "metadata": {},
     "output_type": "display_data"
    },
    {
     "data": {
      "text/html": [
       " View run <strong style=\"color:#cdcd00\">swift-darkness-6</strong> at: <a href='https://wandb.ai/jazielinho/nyc_airbnb/runs/z2mvqkvj' target=\"_blank\">https://wandb.ai/jazielinho/nyc_airbnb/runs/z2mvqkvj</a><br/>Synced 7 W&B file(s), 0 media file(s), 0 artifact file(s) and 0 other file(s)"
      ],
      "text/plain": [
       "<IPython.core.display.HTML object>"
      ]
     },
     "metadata": {},
     "output_type": "display_data"
    },
    {
     "data": {
      "text/html": [
       "Find logs at: <code>./wandb/run-20240821_111028-z2mvqkvj/logs</code>"
      ],
      "text/plain": [
       "<IPython.core.display.HTML object>"
      ]
     },
     "metadata": {},
     "output_type": "display_data"
    }
   ],
   "source": [
    "run.finish()"
   ]
  },
  {
   "cell_type": "code",
   "execution_count": null,
   "id": "dadc3d53-2959-4b91-9511-8a0f7963e20a",
   "metadata": {},
   "outputs": [],
   "source": []
  }
 ],
 "metadata": {
  "kernelspec": {
   "display_name": "Python 3 (ipykernel)",
   "language": "python",
   "name": "python3"
  },
  "language_info": {
   "codemirror_mode": {
    "name": "ipython",
    "version": 3
   },
   "file_extension": ".py",
   "mimetype": "text/x-python",
   "name": "python",
   "nbconvert_exporter": "python",
   "pygments_lexer": "ipython3",
   "version": "3.10.14"
  }
 },
 "nbformat": 4,
 "nbformat_minor": 5
}
